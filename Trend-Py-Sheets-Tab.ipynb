{
 "cells": [
  {
   "cell_type": "code",
   "execution_count": 1,
   "metadata": {
    "collapsed": true
   },
   "outputs": [],
   "source": [
    "# install needed packages\n",
    "import pygsheets\n",
    "import pandas as pd\n",
    "import requests\n",
    "import itertools\n",
    "from bs4 import BeautifulSoup\n",
    "from random import randint\n",
    "from pytrends.request import TrendReq"
   ]
  },
  {
   "cell_type": "code",
   "execution_count": 2,
   "metadata": {
    "collapsed": true
   },
   "outputs": [],
   "source": [
    "# authorization\n",
    "# use creds to create a client to interact with the Google Drive API\n",
    "gc = pygsheets.authorize(outh_file='C:/Users/Thatshelbs/client_secret.json')"
   ]
  },
  {
   "cell_type": "code",
   "execution_count": 3,
   "metadata": {
    "collapsed": true
   },
   "outputs": [],
   "source": [
    "#Start with google trends\n",
    "pytrend = TrendReq()"
   ]
  },
  {
   "cell_type": "code",
   "execution_count": 4,
   "metadata": {
    "collapsed": true
   },
   "outputs": [],
   "source": [
    "kw_list=[\"Kirk Cousins\",\"Sam Bradford\",\"Teddy Bridgewater\",\"Case Keenum\"]\n",
    "pytrend.build_payload(kw_list,geo='US')"
   ]
  },
  {
   "cell_type": "code",
   "execution_count": 5,
   "metadata": {
    "collapsed": true
   },
   "outputs": [],
   "source": [
    "interest_over_time_df = pytrend.interest_over_time()\n",
    "#end google trends"
   ]
  },
  {
   "cell_type": "code",
   "execution_count": 6,
   "metadata": {
    "collapsed": true
   },
   "outputs": [],
   "source": [
    "#some prep for google sheets\n",
    "#it didn't like the date format\n",
    "#reshaping dataframe for tableau\n",
    "ts = pd.to_datetime(interest_over_time_df.index)"
   ]
  },
  {
   "cell_type": "code",
   "execution_count": 7,
   "metadata": {
    "collapsed": true
   },
   "outputs": [],
   "source": [
    "interest_over_time_df['date'] = ts.strftime('%Y.%m.%d')\n",
    "interest_over_time_df = interest_over_time_df.loc[interest_over_time_df['isPartial'] == 'False']\n",
    "interest_over_time_df = interest_over_time_df[['date',\"Kirk Cousins\",\"Sam Bradford\",\"Teddy Bridgewater\",\"Case Keenum\"]]"
   ]
  },
  {
   "cell_type": "code",
   "execution_count": 8,
   "metadata": {
    "collapsed": true
   },
   "outputs": [],
   "source": [
    "interest_over_time_df2 = pd.melt(interest_over_time_df,id_vars=['date'],var_name='qb_name',value_name='index')"
   ]
  },
  {
   "cell_type": "code",
   "execution_count": 9,
   "metadata": {
    "collapsed": true
   },
   "outputs": [],
   "source": [
    "# Open Google spreadsheet and then workseet\n",
    "sh = gc.open('Butterfly Kneeffect')\n",
    "wks = sh.worksheet_by_title(\"gt_data\")\n",
    "\n",
    "#set the values of a pandas dataframe to sheet\n",
    "wks.set_dataframe(interest_over_time_df2,(1,1))\n",
    "\n",
    "#Google trends has now been uploaded to google sheets account"
   ]
  },
  {
   "cell_type": "code",
   "execution_count": 10,
   "metadata": {
    "collapsed": true
   },
   "outputs": [],
   "source": [
    "#I wanted to scrape espn.com quarterback rating (QBR) results from tables on their website\n",
    "year = list(range(2013,2019))\n",
    "week = list(range(1,17))\n",
    "week_year = list(itertools.product(year,week))"
   ]
  },
  {
   "cell_type": "code",
   "execution_count": 11,
   "metadata": {
    "collapsed": true
   },
   "outputs": [],
   "source": [
    "qb_list = []\n",
    "sep = ','\n",
    "y=0\n",
    "for x in week_year:\n",
    "    r = requests.get(\"http://www.espn.com/nfl/qbr/_/year/%s/type/player-week/week/%s\" % (str(week_year[y][0]),str(week_year[y][1])))\n",
    "    soup = BeautifulSoup(r.content, 'html.parser')\n",
    "    for tr in soup.find_all('tr'):\n",
    "        tds = tr.find_all('td')\n",
    "        qb_name = tds[1].text.split(sep)[0]\n",
    "        qbr = tds[10].text.strip()\n",
    "        year2 = week_year[y][0]\n",
    "        week2 = week_year[y][1]\n",
    "        qb_row = {'year' : year2,'week' : week2, 'qb_name' : qb_name,'qbr':qbr}\n",
    "        if qb_row['qb_name'] in ['Sam Bradford', 'Case Keenum', 'Teddy Bridgewater', 'Kirk Cousins']:\n",
    "            qb_list.append(qb_row)\n",
    "    y=y+1\n",
    "    \n"
   ]
  },
  {
   "cell_type": "code",
   "execution_count": 12,
   "metadata": {
    "collapsed": true
   },
   "outputs": [],
   "source": [
    "#pandas\n",
    "qb_list_df = pd.DataFrame(qb_list)\n",
    "\n",
    "# Open spreadsheet and then worksheet\n",
    "wks2 = sh.worksheet_by_title(\"qbr_data\")\n",
    "\n",
    "#set the values of a pandas dataframe to sheet\n",
    "wks2.set_dataframe(qb_list_df,(1,1))\n",
    "\n",
    "#webscrapped QBR now in google sheets account\n"
   ]
  }
 ],
 "metadata": {
  "kernelspec": {
   "display_name": "Python 3",
   "language": "python",
   "name": "python3"
  },
  "language_info": {
   "codemirror_mode": {
    "name": "ipython",
    "version": 3
   },
   "file_extension": ".py",
   "mimetype": "text/x-python",
   "name": "python",
   "nbconvert_exporter": "python",
   "pygments_lexer": "ipython3",
   "version": "3.6.1"
  }
 },
 "nbformat": 4,
 "nbformat_minor": 2
}
